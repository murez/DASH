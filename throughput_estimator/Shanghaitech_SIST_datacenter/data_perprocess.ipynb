{
 "cells": [
  {
   "cell_type": "code",
   "execution_count": 24,
   "metadata": {},
   "outputs": [
    {
     "name": "stderr",
     "output_type": "stream",
     "text": [
      "<frozen importlib._bootstrap>:228: RuntimeWarning: scipy._lib.messagestream.MessageStream size changed, may indicate binary incompatibility. Expected 56 from C header, got 64 from PyObject\n"
     ]
    }
   ],
   "source": [
    "import polars as pl\n",
    "from datetime import datetime\n",
    "import numpy as np\n",
    "import time\n",
    "from scipy.integrate import simps\n",
    "import config"
   ]
  },
  {
   "cell_type": "code",
   "execution_count": 25,
   "metadata": {},
   "outputs": [],
   "source": [
    "def remove_percentage(x): return int(x.split('%')[0])\n",
    "def remove_MiB(x): return int(x.split('MiB')[0])\n",
    "def remove_W(x): return float(x.split('W')[0])\n",
    "\n",
    "\n",
    "def convert_to_timestamp(x): return int(datetime.strptime(\n",
    "    x + \" +0800\", '%Y/%m/%d %H:%M:%S.%f %z').timestamp() * 1000)\n"
   ]
  },
  {
   "cell_type": "code",
   "execution_count": 67,
   "metadata": {},
   "outputs": [],
   "source": [
    "def process(name: str):\n",
    "    index_df = pl.read_csv(\n",
    "        \"index_nvidia_{}.txt\".format(name))\n",
    "    metrics_df = pl.read_csv(\"nvidiadata_{}.csv\".format(name))\n",
    "    metrics_df = metrics_df.with_columns([\n",
    "        pl.col('utilizationgpu').apply(remove_percentage),\n",
    "        pl.col('utilizationmemory').apply(remove_percentage),\n",
    "        pl.col('memoryfree').apply(remove_MiB),\n",
    "        pl.col('memoryused').apply(remove_MiB),\n",
    "        pl.col('powerdraw').apply(remove_W),\n",
    "        pl.col('timestamp').apply(convert_to_timestamp)\n",
    "    ])\n",
    "    metrics_df = metrics_df.drop('temperaturememory').drop(\n",
    "        'pcielinkgencurrent').drop('index')\n",
    "    data = []\n",
    "    for i in range(index_df.shape[0]):\n",
    "\n",
    "        model_name = index_df[i]['model'][0]\n",
    "        batch_size = index_df[i]['batch_size'][0]\n",
    "        start_time = index_df[i]['start_time'][0]\n",
    "        end_time = index_df[i]['end_time'][0]\n",
    "        duration = index_df[i]['duration'][0]\n",
    "\n",
    "        filted_data = metrics_df.filter(\n",
    "            pl.col('timestamp').is_between(\n",
    "                start_time / 1000000, end_time / 1000000)\n",
    "        ).to_numpy()[:, 1:]\n",
    "        \n",
    "        if filted_data.shape[0] >= 1024:\n",
    "            length = 1024\n",
    "            filted_data = filted_data[:1024]\n",
    "\n",
    "        else:\n",
    "            length = filted_data.shape[0]\n",
    "            zero_padding = np.zeros((1024 - length, filted_data.shape[1]), dtype=np.float32)\n",
    "            filted_data = np.concatenate((filted_data, zero_padding), axis=0)\n",
    "\n",
    "        data.append(\n",
    "            {\n",
    "                'model': model_name,\n",
    "                'batch_size': batch_size,\n",
    "                'duration': duration,\n",
    "                'data': filted_data,\n",
    "                'length': length\n",
    "            }\n",
    "        )\n",
    "        # data: \n",
    "        #       0 utilizationgpu,\n",
    "        #       1 utilizationmemory,\n",
    "        #       2 memoryfree,\n",
    "        #       3 memoryused,\n",
    "        #       4 temperaturegpu,\n",
    "        #       5 powerdraw\n",
    "    return data\n"
   ]
  },
  {
   "cell_type": "code",
   "execution_count": 82,
   "metadata": {},
   "outputs": [],
   "source": [
    "data_transfer = []\n",
    "\n",
    "all_data = {}\n",
    "\n",
    "for x in ['A40', 'GTX_1080', 'RTX_2080', 'TITANX', 'TITANXp', 'V100']:\n",
    "    all_data[x] = process(x)\n",
    "    "
   ]
  },
  {
   "cell_type": "code",
   "execution_count": 83,
   "metadata": {},
   "outputs": [],
   "source": [
    "data_label = {}\n",
    "\n",
    "for x in ['A40', 'GTX_1080', 'RTX_2080', 'TITANX', 'TITANXp', 'V100']:\n",
    "    data_label[x] = []\n",
    "    for d in all_data[x]:\n",
    "        i = 0\n",
    "        while d['model'] + '_' + str(i) in data_label[x]:\n",
    "            i += 1\n",
    "        data_label[x].append(\n",
    "            d['model'] + '_' + str(i)\n",
    "        )"
   ]
  },
  {
   "cell_type": "code",
   "execution_count": 84,
   "metadata": {},
   "outputs": [],
   "source": [
    "for x in ['A40', 'GTX_1080', 'RTX_2080', 'TITANX', 'TITANXp', 'V100']:\n",
    "    for y in ['A40', 'GTX_1080', 'RTX_2080', 'TITANX', 'TITANXp', 'V100']:\n",
    "        for data_label_x in data_label[x]:\n",
    "            for data_label_y in data_label[y]:\n",
    "                if data_label_x.split('_')[0] == data_label_y.split('_')[0]:\n",
    "                    data_transfer.append(\n",
    "                        {\n",
    "                            'from': x,\n",
    "                            'to': y,\n",
    "                            'data_label': data_label_x.split('_')[0],\n",
    "                            'from_batch_size': all_data[x][data_label[x].index(data_label_x)]['batch_size'],\n",
    "                            'to_batch_size': all_data[y][data_label[y].index(data_label_y)]['batch_size'],\n",
    "                            'from_duration': all_data[x][data_label[x].index(data_label_x)]['duration'],\n",
    "                            'to_duration': all_data[y][data_label[y].index(data_label_y)]['duration'],\n",
    "                            'from_metrics': all_data[x][data_label[x].index(data_label_x)]['data'],\n",
    "                            'from_length': all_data[x][data_label[x].index(data_label_x)]['length']\n",
    "                        }\n",
    "                    )\n",
    "                \n",
    "                "
   ]
  },
  {
   "cell_type": "code",
   "execution_count": 87,
   "metadata": {},
   "outputs": [
    {
     "data": {
      "text/plain": [
       "3021027"
      ]
     },
     "execution_count": 87,
     "metadata": {},
     "output_type": "execute_result"
    }
   ],
   "source": [
    "len(data_transfer)"
   ]
  },
  {
   "cell_type": "code",
   "execution_count": 88,
   "metadata": {},
   "outputs": [
    {
     "data": {
      "text/plain": [
       "{'from': 'A40',\n",
       " 'to': 'A40',\n",
       " 'data_label': 'hf',\n",
       " 'from_batch_size': 1,\n",
       " 'to_batch_size': 1,\n",
       " 'from_duration': 11576.40234375,\n",
       " 'to_duration': 11576.40234375,\n",
       " 'from_metrics': array([[1.0000e+02, 9.0000e+01, 4.0077e+04, 5.5570e+03, 3.2000e+01,\n",
       "         1.5479e+02],\n",
       "        [9.9000e+01, 9.1000e+01, 4.0077e+04, 5.5570e+03, 3.3000e+01,\n",
       "         1.6948e+02],\n",
       "        [9.9000e+01, 9.1000e+01, 4.0077e+04, 5.5570e+03, 3.3000e+01,\n",
       "         1.8035e+02],\n",
       "        ...,\n",
       "        [0.0000e+00, 0.0000e+00, 0.0000e+00, 0.0000e+00, 0.0000e+00,\n",
       "         0.0000e+00],\n",
       "        [0.0000e+00, 0.0000e+00, 0.0000e+00, 0.0000e+00, 0.0000e+00,\n",
       "         0.0000e+00],\n",
       "        [0.0000e+00, 0.0000e+00, 0.0000e+00, 0.0000e+00, 0.0000e+00,\n",
       "         0.0000e+00]]),\n",
       " 'from_length': 110}"
      ]
     },
     "execution_count": 88,
     "metadata": {},
     "output_type": "execute_result"
    }
   ],
   "source": [
    "data_transfer[0]"
   ]
  },
  {
   "cell_type": "code",
   "execution_count": 89,
   "metadata": {},
   "outputs": [],
   "source": [
    "np.save(\"transfer_data.npy\", data_transfer)"
   ]
  },
  {
   "cell_type": "code",
   "execution_count": 49,
   "metadata": {},
   "outputs": [],
   "source": [
    "data = np.load('sequence_data.npy', allow_pickle=True)"
   ]
  },
  {
   "cell_type": "code",
   "execution_count": 50,
   "metadata": {},
   "outputs": [],
   "source": [
    "t = set()\n",
    "for d in data:\n",
    "    if d['data'].shape[0] != 1024:\n",
    "        print(d['data'].shape[0], d['length'])"
   ]
  },
  {
   "cell_type": "code",
   "execution_count": 30,
   "metadata": {},
   "outputs": [],
   "source": [
    "modelnamelist = sorted(['timm_nfnet', 'resnet50_quantized_qat', 'shufflenet_v2_x1_0', 'densenet121', 'detectron2_maskrcnn', 'vgg16', 'hf_Bart', 'yolov3', 'hf_DistilBert', 'resnet18', 'hf_GPT2', 'hf_Albert', 'mobilenet_v3_large', 'maml_omniglot', 'timm_vision_transformer', 'maml', 'vision_maskrcnn', 'alexnet', 'nvidia_deeprecommender', 'LearningToPaint', 'resnext50_32x4d', 'hf_Bert', 'drq', 'timm_vovnet', 'pytorch_unet', 'hf_T5', 'mobilenet_v2', 'timm_regnet', 'squeezenet1_1', 'pytorch_CycleGAN_and_pix2pix', 'hf_Reformer', 'dcgan', 'Super_SloMo', 'mobilenet_v2_quantized_qat', 'hf_Longformer', 'resnet50', 'timm_efficientnet', 'attention_is_all_you_need_pytorch', 'BERT_pytorch', 'mnasnet1_0', 'fastNLP_Bert', 'hf_BigBird'])\n",
    "model_name_to_num = {modelnamelist.index(model): model for model in modelnamelist}\n",
    "model_num_to_name = {model: modelnamelist.index(model) for model in modelnamelist}"
   ]
  },
  {
   "cell_type": "code",
   "execution_count": 32,
   "metadata": {},
   "outputs": [
    {
     "data": {
      "text/plain": [
       "dict_keys(['model', 'batch_size', 'duration', 'data', 'length'])"
      ]
     },
     "execution_count": 32,
     "metadata": {},
     "output_type": "execute_result"
    }
   ],
   "source": [
    "data[0].keys()"
   ]
  },
  {
   "cell_type": "code",
   "execution_count": 3,
   "metadata": {},
   "outputs": [],
   "source": [
    "import ShanghaitechData\n",
    "\n",
    "ds = ShanghaitechData.ShanghaitechClusterDataset()\n",
    "\n",
    "import torch\n",
    "from torch.utils.data import DataLoader\n",
    "dl = DataLoader(ds, batch_size=20, shuffle=True)\n"
   ]
  },
  {
   "cell_type": "code",
   "execution_count": 5,
   "metadata": {},
   "outputs": [],
   "source": [
    "for d in dl:\n",
    "    (from_device_config, \n",
    "    to_device_config, \n",
    "    from_batch_size, \n",
    "    to_batch_size, \n",
    "    from_metrics, \n",
    "    from_length,\n",
    "    duration_rate) = d\n",
    "    break"
   ]
  },
  {
   "cell_type": "code",
   "execution_count": 6,
   "metadata": {},
   "outputs": [
    {
     "data": {
      "text/plain": [
       "torch.Size([20, 1024, 6])"
      ]
     },
     "execution_count": 6,
     "metadata": {},
     "output_type": "execute_result"
    }
   ],
   "source": [
    "from_metrics.shape"
   ]
  },
  {
   "cell_type": "code",
   "execution_count": 8,
   "metadata": {},
   "outputs": [
    {
     "data": {
      "text/plain": [
       "tensor([[[2.4000e+01, 5.0000e+00, 4.3511e+04, 2.1230e+03, 4.5000e+01,\n",
       "          8.8490e+01],\n",
       "         [2.4000e+01, 5.0000e+00, 4.3511e+04, 2.1230e+03, 4.5000e+01,\n",
       "          9.0320e+01],\n",
       "         [3.0000e+01, 7.0000e+00, 4.3511e+04, 2.1230e+03, 4.5000e+01,\n",
       "          9.2350e+01],\n",
       "         ...,\n",
       "         [0.0000e+00, 0.0000e+00, 0.0000e+00, 0.0000e+00, 0.0000e+00,\n",
       "          0.0000e+00],\n",
       "         [0.0000e+00, 0.0000e+00, 0.0000e+00, 0.0000e+00, 0.0000e+00,\n",
       "          0.0000e+00],\n",
       "         [0.0000e+00, 0.0000e+00, 0.0000e+00, 0.0000e+00, 0.0000e+00,\n",
       "          0.0000e+00]],\n",
       "\n",
       "        [[8.8000e+01, 5.6000e+01, 1.0979e+04, 1.2170e+03, 8.2000e+01,\n",
       "          2.4525e+02],\n",
       "         [8.9000e+01, 5.9000e+01, 1.0979e+04, 1.2170e+03, 8.2000e+01,\n",
       "          2.5639e+02],\n",
       "         [9.4000e+01, 6.1000e+01, 1.0979e+04, 1.2170e+03, 8.2000e+01,\n",
       "          2.5089e+02],\n",
       "         ...,\n",
       "         [0.0000e+00, 0.0000e+00, 0.0000e+00, 0.0000e+00, 0.0000e+00,\n",
       "          0.0000e+00],\n",
       "         [0.0000e+00, 0.0000e+00, 0.0000e+00, 0.0000e+00, 0.0000e+00,\n",
       "          0.0000e+00],\n",
       "         [0.0000e+00, 0.0000e+00, 0.0000e+00, 0.0000e+00, 0.0000e+00,\n",
       "          0.0000e+00]],\n",
       "\n",
       "        [[2.0000e+00, 0.0000e+00, 7.9330e+03, 3.0860e+03, 5.6000e+01,\n",
       "          2.2270e+02],\n",
       "         [2.0000e+00, 0.0000e+00, 7.9330e+03, 3.0860e+03, 5.6000e+01,\n",
       "          2.3306e+02],\n",
       "         [2.0000e+00, 0.0000e+00, 7.9330e+03, 3.0860e+03, 5.7000e+01,\n",
       "          2.3258e+02],\n",
       "         ...,\n",
       "         [0.0000e+00, 0.0000e+00, 0.0000e+00, 0.0000e+00, 0.0000e+00,\n",
       "          0.0000e+00],\n",
       "         [0.0000e+00, 0.0000e+00, 0.0000e+00, 0.0000e+00, 0.0000e+00,\n",
       "          0.0000e+00],\n",
       "         [0.0000e+00, 0.0000e+00, 0.0000e+00, 0.0000e+00, 0.0000e+00,\n",
       "          0.0000e+00]],\n",
       "\n",
       "        ...,\n",
       "\n",
       "        [[9.8000e+01, 6.5000e+01, 1.9604e+04, 4.6160e+03, 6.8000e+01,\n",
       "          2.7730e+02],\n",
       "         [9.8000e+01, 6.5000e+01, 1.9604e+04, 4.6160e+03, 6.8000e+01,\n",
       "          2.7297e+02],\n",
       "         [9.8000e+01, 6.5000e+01, 1.9604e+04, 4.6160e+03, 6.9000e+01,\n",
       "          2.6373e+02],\n",
       "         ...,\n",
       "         [0.0000e+00, 0.0000e+00, 0.0000e+00, 0.0000e+00, 0.0000e+00,\n",
       "          0.0000e+00],\n",
       "         [0.0000e+00, 0.0000e+00, 0.0000e+00, 0.0000e+00, 0.0000e+00,\n",
       "          0.0000e+00],\n",
       "         [0.0000e+00, 0.0000e+00, 0.0000e+00, 0.0000e+00, 0.0000e+00,\n",
       "          0.0000e+00]],\n",
       "\n",
       "        [[9.5000e+01, 6.5000e+01, 9.4890e+03, 2.7070e+03, 8.2000e+01,\n",
       "          2.4431e+02],\n",
       "         [9.5000e+01, 6.4000e+01, 9.4890e+03, 2.7070e+03, 8.2000e+01,\n",
       "          2.5522e+02],\n",
       "         [9.6000e+01, 6.5000e+01, 9.4890e+03, 2.7070e+03, 8.2000e+01,\n",
       "          2.5706e+02],\n",
       "         ...,\n",
       "         [0.0000e+00, 0.0000e+00, 0.0000e+00, 0.0000e+00, 0.0000e+00,\n",
       "          0.0000e+00],\n",
       "         [0.0000e+00, 0.0000e+00, 0.0000e+00, 0.0000e+00, 0.0000e+00,\n",
       "          0.0000e+00],\n",
       "         [0.0000e+00, 0.0000e+00, 0.0000e+00, 0.0000e+00, 0.0000e+00,\n",
       "          0.0000e+00]],\n",
       "\n",
       "        [[3.0000e+00, 0.0000e+00, 8.3990e+03, 2.6200e+03, 5.5000e+01,\n",
       "          1.5670e+02],\n",
       "         [3.0000e+00, 0.0000e+00, 8.3990e+03, 2.6200e+03, 5.7000e+01,\n",
       "          2.0959e+02],\n",
       "         [3.0000e+00, 0.0000e+00, 8.3990e+03, 2.6200e+03, 5.7000e+01,\n",
       "          2.4135e+02],\n",
       "         ...,\n",
       "         [0.0000e+00, 0.0000e+00, 0.0000e+00, 0.0000e+00, 0.0000e+00,\n",
       "          0.0000e+00],\n",
       "         [0.0000e+00, 0.0000e+00, 0.0000e+00, 0.0000e+00, 0.0000e+00,\n",
       "          0.0000e+00],\n",
       "         [0.0000e+00, 0.0000e+00, 0.0000e+00, 0.0000e+00, 0.0000e+00,\n",
       "          0.0000e+00]]], dtype=torch.float64)"
      ]
     },
     "execution_count": 8,
     "metadata": {},
     "output_type": "execute_result"
    }
   ],
   "source": [
    "from_metrics"
   ]
  },
  {
   "cell_type": "code",
   "execution_count": 10,
   "metadata": {},
   "outputs": [],
   "source": [
    "gru = torch.nn.GRU(input_size=6, hidden_size=20, dropout=0.5, batch_first=True)\n",
    "result = gru(from_metrics.float())"
   ]
  },
  {
   "cell_type": "code",
   "execution_count": 15,
   "metadata": {},
   "outputs": [
    {
     "data": {
      "text/plain": [
       "tensor([[[ 0.3028,  0.2551,  0.2603,  0.2040,  0.1526,  0.0818,  0.1320,\n",
       "          -0.0558, -0.1966, -0.1944, -0.1103,  0.3012,  0.0171, -0.0691,\n",
       "           0.1160,  0.0656, -0.2441,  0.1702,  0.0156, -0.0139],\n",
       "         [ 0.3028,  0.2551,  0.2603,  0.2040,  0.1526,  0.0818,  0.1320,\n",
       "          -0.0558, -0.1966, -0.1944, -0.1103,  0.3012,  0.0171, -0.0691,\n",
       "           0.1160,  0.0656, -0.2441,  0.1702,  0.0156, -0.0139],\n",
       "         [ 0.3028,  0.2551,  0.2603,  0.2040,  0.1526,  0.0818,  0.1320,\n",
       "          -0.0558, -0.1966, -0.1944, -0.1103,  0.3012,  0.0171, -0.0691,\n",
       "           0.1160,  0.0656, -0.2441,  0.1702,  0.0156, -0.0139],\n",
       "         [ 0.3028,  0.2551,  0.2603,  0.2040,  0.1526,  0.0818,  0.1320,\n",
       "          -0.0558, -0.1966, -0.1944, -0.1103,  0.3012,  0.0171, -0.0691,\n",
       "           0.1160,  0.0656, -0.2441,  0.1702,  0.0156, -0.0139],\n",
       "         [ 0.3028,  0.2551,  0.2603,  0.2040,  0.1526,  0.0818,  0.1320,\n",
       "          -0.0558, -0.1966, -0.1944, -0.1103,  0.3012,  0.0171, -0.0691,\n",
       "           0.1160,  0.0656, -0.2441,  0.1702,  0.0156, -0.0139],\n",
       "         [ 0.3028,  0.2551,  0.2603,  0.2040,  0.1526,  0.0818,  0.1320,\n",
       "          -0.0558, -0.1966, -0.1944, -0.1103,  0.3012,  0.0171, -0.0691,\n",
       "           0.1160,  0.0656, -0.2441,  0.1702,  0.0156, -0.0139],\n",
       "         [ 0.3028,  0.2551,  0.2603,  0.2040,  0.1526,  0.0818,  0.1320,\n",
       "          -0.0558, -0.1966, -0.1944, -0.1103,  0.3012,  0.0171, -0.0691,\n",
       "           0.1160,  0.0656, -0.2441,  0.1702,  0.0156, -0.0139],\n",
       "         [ 0.3028,  0.2551,  0.2603,  0.2040,  0.1526,  0.0818,  0.1320,\n",
       "          -0.0558, -0.1966, -0.1944, -0.1103,  0.3012,  0.0171, -0.0691,\n",
       "           0.1160,  0.0656, -0.2441,  0.1702,  0.0156, -0.0139],\n",
       "         [ 0.3028,  0.2551,  0.2603,  0.2040,  0.1526,  0.0818,  0.1320,\n",
       "          -0.0558, -0.1966, -0.1944, -0.1103,  0.3012,  0.0171, -0.0691,\n",
       "           0.1160,  0.0656, -0.2441,  0.1702,  0.0156, -0.0139],\n",
       "         [ 0.3028,  0.2551,  0.2603,  0.2040,  0.1526,  0.0818,  0.1320,\n",
       "          -0.0558, -0.1966, -0.1944, -0.1103,  0.3012,  0.0171, -0.0691,\n",
       "           0.1160,  0.0656, -0.2441,  0.1702,  0.0156, -0.0139],\n",
       "         [ 0.3028,  0.2551,  0.2603,  0.2040,  0.1526,  0.0818,  0.1320,\n",
       "          -0.0558, -0.1966, -0.1944, -0.1103,  0.3012,  0.0171, -0.0691,\n",
       "           0.1160,  0.0656, -0.2441,  0.1702,  0.0156, -0.0139],\n",
       "         [ 0.3028,  0.2551,  0.2603,  0.2040,  0.1526,  0.0818,  0.1320,\n",
       "          -0.0558, -0.1966, -0.1944, -0.1103,  0.3012,  0.0171, -0.0691,\n",
       "           0.1160,  0.0656, -0.2441,  0.1702,  0.0156, -0.0139],\n",
       "         [ 0.3028,  0.2551,  0.2603,  0.2040,  0.1526,  0.0818,  0.1320,\n",
       "          -0.0558, -0.1966, -0.1944, -0.1103,  0.3012,  0.0171, -0.0691,\n",
       "           0.1160,  0.0656, -0.2441,  0.1702,  0.0156, -0.0139],\n",
       "         [ 0.3028,  0.2551,  0.2603,  0.2040,  0.1526,  0.0818,  0.1320,\n",
       "          -0.0558, -0.1966, -0.1944, -0.1103,  0.3012,  0.0171, -0.0691,\n",
       "           0.1160,  0.0656, -0.2441,  0.1702,  0.0156, -0.0139],\n",
       "         [ 0.3028,  0.2551,  0.2603,  0.2040,  0.1526,  0.0818,  0.1320,\n",
       "          -0.0558, -0.1966, -0.1944, -0.1103,  0.3012,  0.0171, -0.0691,\n",
       "           0.1160,  0.0656, -0.2441,  0.1702,  0.0156, -0.0139],\n",
       "         [ 0.3028,  0.2551,  0.2603,  0.2040,  0.1526,  0.0818,  0.1320,\n",
       "          -0.0558, -0.1966, -0.1944, -0.1103,  0.3012,  0.0171, -0.0691,\n",
       "           0.1160,  0.0656, -0.2441,  0.1702,  0.0156, -0.0139],\n",
       "         [ 0.3028,  0.2551,  0.2603,  0.2040,  0.1526,  0.0818,  0.1320,\n",
       "          -0.0558, -0.1966, -0.1944, -0.1103,  0.3012,  0.0171, -0.0691,\n",
       "           0.1160,  0.0656, -0.2441,  0.1702,  0.0156, -0.0139],\n",
       "         [ 0.3028,  0.2551,  0.2603,  0.2040,  0.1526,  0.0818,  0.1320,\n",
       "          -0.0558, -0.1966, -0.1944, -0.1103,  0.3012,  0.0171, -0.0691,\n",
       "           0.1160,  0.0656, -0.2441,  0.1702,  0.0156, -0.0139],\n",
       "         [ 0.3028,  0.2551,  0.2603,  0.2040,  0.1526,  0.0818,  0.1320,\n",
       "          -0.0558, -0.1966, -0.1944, -0.1103,  0.3012,  0.0171, -0.0691,\n",
       "           0.1160,  0.0656, -0.2441,  0.1702,  0.0156, -0.0139],\n",
       "         [ 0.3028,  0.2551,  0.2603,  0.2040,  0.1526,  0.0818,  0.1320,\n",
       "          -0.0558, -0.1966, -0.1944, -0.1103,  0.3012,  0.0171, -0.0691,\n",
       "           0.1160,  0.0656, -0.2441,  0.1702,  0.0156, -0.0139]]],\n",
       "       grad_fn=<StackBackward0>)"
      ]
     },
     "execution_count": 15,
     "metadata": {},
     "output_type": "execute_result"
    }
   ],
   "source": [
    "result[1]"
   ]
  }
 ],
 "metadata": {
  "interpreter": {
   "hash": "ec92373eb85d7e85c22f55db683c083854f1ea57bbead13cebfc370924f2b270"
  },
  "kernelspec": {
   "display_name": "Python 3.9.7 ('base')",
   "language": "python",
   "name": "python3"
  },
  "language_info": {
   "codemirror_mode": {
    "name": "ipython",
    "version": 3
   },
   "file_extension": ".py",
   "mimetype": "text/x-python",
   "name": "python",
   "nbconvert_exporter": "python",
   "pygments_lexer": "ipython3",
   "version": "3.9.7"
  },
  "orig_nbformat": 4
 },
 "nbformat": 4,
 "nbformat_minor": 2
}
