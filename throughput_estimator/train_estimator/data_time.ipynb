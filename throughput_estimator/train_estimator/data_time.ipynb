{
 "cells": [
  {
   "cell_type": "code",
   "execution_count": 5,
   "metadata": {},
   "outputs": [],
   "source": [
    "import pandas as pd\n",
    "import numpy as np\n",
    "import os"
   ]
  },
  {
   "cell_type": "code",
   "execution_count": 6,
   "metadata": {},
   "outputs": [],
   "source": [
    "data1080 = pd.read_csv('index_nvidia_GTX_1080.csv')\n",
    "data2080 = pd.read_csv('index_nvidia_RTX_2080.csv')\n",
    "datatitan = pd.read_csv('index_nvidia_TITANX.csv')\n",
    "datatitanxp = pd.read_csv('index_nvidia_TITANXp.csv')"
   ]
  },
  {
   "cell_type": "code",
   "execution_count": 18,
   "metadata": {},
   "outputs": [],
   "source": [
    "def get_avg(dataframe):\n",
    "    data = {}\n",
    "    for index, row in dataframe.iterrows():\n",
    "        model_bs = '{}.{}'.format(row['model'],row['batch_size'])\n",
    "        if model_bs not in data.keys():\n",
    "            data[model_bs] = []\n",
    "        data[model_bs].append(row['duration'])\n",
    "    for d in data:\n",
    "        data[d] = sum(data[d])/len(data[d])\n",
    "    return data"
   ]
  },
  {
   "cell_type": "code",
   "execution_count": 26,
   "metadata": {},
   "outputs": [],
   "source": [
    "avg_1080 = get_avg(data1080)\n",
    "avg_2080 = get_avg(data2080)\n",
    "avg_titan = get_avg(datatitan)\n",
    "avg_titanxp = get_avg(datatitanxp)\n",
    "\n",
    "all_data = []\n",
    "\n",
    "for m_bs in avg_1080.keys():\n",
    "    model_name = m_bs.split('.')[0]\n",
    "    batch_size = int(m_bs.split('.')[1])\n",
    "    all_data.append({\n",
    "        'name': m_bs.replace('.', '_'),\n",
    "        'model':model_name,\n",
    "        'batch_size':batch_size, \n",
    "        '2080':avg_2080[m_bs] / avg_1080[m_bs],\n",
    "        'titan':avg_titan[m_bs] / avg_1080[m_bs],\n",
    "        'titanxp':avg_titanxp[m_bs] / avg_1080[m_bs]})"
   ]
  },
  {
   "cell_type": "code",
   "execution_count": 27,
   "metadata": {},
   "outputs": [],
   "source": [
    "df = pd.DataFrame(all_data)"
   ]
  },
  {
   "cell_type": "code",
   "execution_count": 28,
   "metadata": {},
   "outputs": [],
   "source": [
    "df.to_csv('time.csv', index=False)"
   ]
  },
  {
   "cell_type": "code",
   "execution_count": 29,
   "metadata": {},
   "outputs": [],
   "source": [
    "profile_1080 = pd.read_csv('profile_1080.csv')"
   ]
  },
  {
   "cell_type": "code",
   "execution_count": 32,
   "metadata": {},
   "outputs": [],
   "source": [
    "result = pd.merge(profile_1080, df, on=['name'])"
   ]
  },
  {
   "cell_type": "code",
   "execution_count": 33,
   "metadata": {},
   "outputs": [],
   "source": [
    "result.to_csv('time_profile.csv', index=False)"
   ]
  }
 ],
 "metadata": {
  "interpreter": {
   "hash": "ec92373eb85d7e85c22f55db683c083854f1ea57bbead13cebfc370924f2b270"
  },
  "kernelspec": {
   "display_name": "Python 3.9.12 ('base')",
   "language": "python",
   "name": "python3"
  },
  "language_info": {
   "codemirror_mode": {
    "name": "ipython",
    "version": 3
   },
   "file_extension": ".py",
   "mimetype": "text/x-python",
   "name": "python",
   "nbconvert_exporter": "python",
   "pygments_lexer": "ipython3",
   "version": "3.9.12"
  },
  "orig_nbformat": 4
 },
 "nbformat": 4,
 "nbformat_minor": 2
}
